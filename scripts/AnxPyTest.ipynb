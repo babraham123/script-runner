{
 "metadata": {
  "name": ""
 },
 "nbformat": 3,
 "nbformat_minor": 0,
 "worksheets": [
  {
   "cells": [
    {
     "cell_type": "raw",
     "metadata": {},
     "source": [
      "title|AnxPy import test\n",
      "description|A practice notebook that import AnxPy and has 2 print statements\n",
      "wiki|www.reddit.com\n",
      "campaign_code|text|Campaign Code|bobby\n",
      "member_name|text|Member Name|Indigo"
     ]
    },
    {
     "cell_type": "code",
     "collapsed": false,
     "input": [
      "# Bereket cool script\n",
      "from AnxPy import Console\n",
      "from AnxPy.environ import DW_PROD, DW_CTEST\n",
      "console = Console(DW_CTEST)\n",
      "\n",
      "print 42"
     ],
     "language": "python",
     "metadata": {},
     "outputs": [
      {
       "output_type": "stream",
       "stream": "stdout",
       "text": [
        "lleirverliververvlserli. Did not run fresh\n"
       ]
      }
     ],
     "prompt_number": 1
    },
    {
     "cell_type": "code",
     "collapsed": false,
     "input": [
      "print 'This is so awesome'"
     ],
     "language": "python",
     "metadata": {},
     "outputs": []
    }
   ],
   "metadata": {}
  }
 ]
}