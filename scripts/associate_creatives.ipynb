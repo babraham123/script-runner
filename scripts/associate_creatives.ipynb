{
 "metadata": {
  "name": ""
 },
 "nbformat": 3,
 "nbformat_minor": 0,
 "worksheets": [
  {
   "cells": [
    {
     "cell_type": "raw",
     "metadata": {},
     "source": [
      "title|Associate Creatives\n",
      "wiki|https://corpwiki.appnexus.com/x/iIAgAw\n",
      "description|Associates creatives to campaigns. ctest only\n",
      "category|automation\n",
      "team|Agencies and Advertisers\n",
      "creative_ids|text|Creative ids, a comma separated list\n",
      "campaign_ids|text|Campaign ids, a comma separated list"
     ]
    },
    {
     "cell_type": "code",
     "collapsed": false,
     "input": [
      "##### ASSOCIATE CREATIVES\n",
      "\n",
      "from AnxPy import Console\n",
      "from AnxPy.environ import DW_PROD, DW_CTEST, DW_SAND\n",
      "from collections import OrderedDict\n",
      "import anxtools, sys\n",
      "\n",
      "filename = sys.argv[1]\n",
      "rows = anxtools.loadcsv(filename)\n",
      "ids = [int(ca) for ca in campaign_ids.split(',')]\n",
      "creative_ids = [int(cr) for cr in creative_ids.split(',')]\n",
      "\n",
      "# Zip the campaign ids and creative ids together\n",
      "ids_and_creativeids = zip(ids, creative_ids)\n",
      "# Empty dictionary\n",
      "campaign_mapping = {}\n",
      "\n",
      "# Add all the keys to the dictionary with empty lists as values\n",
      "for id, creative_id in ids_and_creativeids:\n",
      "    campaign_mapping[id] = []\n",
      "\n",
      "# Loop through all of the tuples and for each campaign_id\n",
      "# we find in the tuple, look up that campaing_id as the key \n",
      "# in the campaign_mapping dictionary and add the creative_id\n",
      "# as the value \n",
      "# creative_id\n",
      "for id, creative_id in ids_and_creativeids:\n",
      "    campaign_mapping[id].append(creative_id)\n",
      "\n",
      "\n",
      "console = Console(DW_CTEST, token=token)\n",
      "campaign_collection = console.Campaign.get(filter={'id':ids})\n",
      "print \"\\nThere are \", campaign_collection.num_elements, \"campaigns.\"\n",
      "\n",
      "#assert(campaign_collection.num_elements == len(ids))\n",
      "#assert(len(ids) == len(creative_ids))\n",
      "\n",
      "# Get the campaign_list from the campaign collection\n",
      "campaign_list = campaign_collection.get_all()\n",
      "\n",
      "# new code\n",
      "for campaign in campaign_list:\n",
      "    current_campaign_id = str(campaign.id)\n",
      "    current_creatives = campaign_mapping[current_campaign_id]\n",
      "    creative_list = []\n",
      "    for creative in current_creatives:\n",
      "        creative_dict = {}\n",
      "        creative_dict[\"id\"] = creative\n",
      "        creative_list.append(creative_dict)\n",
      "    campaign.creatives = creative_list\n",
      "    print campaign, campaign.creatives\t\n",
      "\t\n"
     ],
     "language": "python",
     "metadata": {},
     "outputs": []
    }
   ],
   "metadata": {}
  }
 ]
}