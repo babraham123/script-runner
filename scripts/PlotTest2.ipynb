{
 "metadata": {
  "name": ""
 },
 "nbformat": 3,
 "nbformat_minor": 0,
 "worksheets": [
  {
   "cells": [
    {
     "cell_type": "raw",
     "metadata": {},
     "source": [
      "title|Plot Test 2\n",
      "description|Practice plotting graphs\n",
      "wiki|http://matplotlib.org/\n",
      "category|reporting\n",
      "team|Technical Services\n",
      "campaign_code|text|Campaign Code|bobby"
     ]
    },
    {
     "cell_type": "code",
     "collapsed": false,
     "input": [
      "\"\"\"\n",
      "Demo of the histogram (hist) function with a few features.\n",
      "\n",
      "In addition to the basic histogram, this demo shows a few optional features:\n",
      "\n",
      "    * Setting the number of data bins\n",
      "    * The ``normed`` flag, which normalizes bin heights so that the integral of\n",
      "      the histogram is 1. The resulting histogram is a probability density.\n",
      "    * Setting the face color of the bars\n",
      "    * Setting the opacity (alpha value).\n",
      "\n",
      "\"\"\"\n",
      "import numpy as np\n",
      "import matplotlib.mlab as mlab\n",
      "import matplotlib.pyplot as plt\n",
      "\n",
      "\n",
      "# example data\n",
      "mu = 100 # mean of distribution\n",
      "sigma = 15 # standard deviation of distribution\n",
      "x = mu + sigma * np.random.randn(10000)\n",
      "\n",
      "num_bins = 50\n",
      "# the histogram of the data\n",
      "n, bins, patches = plt.hist(x, num_bins, normed=1, facecolor='green', alpha=0.5)\n",
      "# add a 'best fit' line\n",
      "y = mlab.normpdf(bins, mu, sigma)\n",
      "plt.plot(bins, y, 'r--')\n",
      "plt.xlabel('Smarts')\n",
      "plt.ylabel('Probability')\n",
      "plt.title(r'Histogram of IQ: $\\mu=100$, $\\sigma=15$')\n",
      "\n",
      "# Tweak spacing to prevent clipping of ylabel\n",
      "plt.subplots_adjust(left=0.15)\n",
      "plt.show()\n"
     ],
     "language": "python",
     "metadata": {},
     "outputs": []
    },
    {
     "cell_type": "code",
     "collapsed": false,
     "input": [
      "\"\"\"\n",
      "Demo of the streamplot function with masking.\n",
      "\n",
      "This example shows how streamlines created by the streamplot function skips\n",
      "masked regions and NaN values.\n",
      "\"\"\"\n",
      "import numpy as np\n",
      "import matplotlib.pyplot as plt\n",
      "\n",
      "w = 3\n",
      "Y, X = np.mgrid[-w:w:100j, -w:w:100j]\n",
      "U = -1 - X**2 + Y\n",
      "V = 1 + X - Y**2\n",
      "speed = np.sqrt(U*U + V*V)\n",
      "\n",
      "mask = np.zeros(U.shape, dtype=bool)\n",
      "mask[40:60, 40:60] = 1\n",
      "U = np.ma.array(U, mask=mask)\n",
      "U[:20, :20] = np.nan\n",
      "\n",
      "plt.streamplot(X, Y, U, V, color='r')\n",
      "\n",
      "plt.imshow(~mask, extent=(-w, w, -w, w), alpha=0.5,\n",
      "           interpolation='nearest', cmap=plt.cm.gray)\n",
      "\n",
      "plt.show()"
     ],
     "language": "python",
     "metadata": {},
     "outputs": []
    },
    {
     "cell_type": "code",
     "collapsed": false,
     "input": [],
     "language": "python",
     "metadata": {},
     "outputs": []
    }
   ],
   "metadata": {}
  }
 ]
}