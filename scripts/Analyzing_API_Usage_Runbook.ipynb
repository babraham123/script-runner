{
 "metadata": {
  "name": ""
 },
 "nbformat": 3,
 "nbformat_minor": 0,
 "worksheets": [
  {
   "cells": [
    {
     "cell_type": "raw",
     "metadata": {},
     "source": [
      "title|Analyzing API Usage Runbook\n",
      "description|Plot API usage for the last 2 weeks\n",
      "wiki|https://corpwiki.appnexus.com/display/adnexusclients/Examining+Client+API+Usage+Patterns\n",
      "category|diagnostics\n",
      "team|Technical Services\n",
      "member_id|text|Member Id|958\n",
      "lookback_window|number|Lookback window in days, starting from today (max is 14)|14"
     ]
    },
    {
     "cell_type": "code",
     "collapsed": false,
     "input": [
      "import pandas\n",
      "\n",
      "db = lnk.dbs.vertapi\n",
      "from datetime import datetime, timedelta\n",
      "import matplotlib.pyplot as plt"
     ],
     "language": "python",
     "metadata": {},
     "outputs": []
    },
    {
     "cell_type": "code",
     "collapsed": false,
     "input": [
      "# Last two weeks \n",
      "end_date     = datetime.today()\n",
      "start_date   = datetime.today() - timedelta(days=lookback_window)"
     ],
     "language": "python",
     "metadata": {},
     "outputs": []
    },
    {
     "cell_type": "heading",
     "level": 4,
     "metadata": {},
     "source": [
      "Top 10 Most-Called Services Last 2 Weeks"
     ]
    },
    {
     "cell_type": "code",
     "collapsed": false,
     "input": [
      "query = \"\"\" select count(*), service from efalconer.api_activity_aggr \n",
      "            where member_id=%s and interval_start >= '%s' and interval_start <= '%s' \n",
      "            group by service order by count(*) desc limit 10;\n",
      "        \"\"\"\n",
      "data = db.select_dataframe(query % (member_id, start_date, end_date))\n",
      "data"
     ],
     "language": "python",
     "metadata": {},
     "outputs": []
    },
    {
     "cell_type": "code",
     "collapsed": false,
     "input": [
      "data.groupby('service').sum().plot(kind='barh')"
     ],
     "language": "python",
     "metadata": {},
     "outputs": []
    },
    {
     "cell_type": "heading",
     "level": 4,
     "metadata": {},
     "source": [
      "Top 10 Most-Called PUT Services Last 2 Weeks"
     ]
    },
    {
     "cell_type": "code",
     "collapsed": false,
     "input": [
      "query = \"\"\" select count(*), service from efalconer.api_activity_aggr \n",
      "            where member_id=%s and interval_start >= '%s' and interval_start <= '%s' \n",
      "            and method='PUT' \n",
      "            group by service order by count(*) desc limit 10;\n",
      "        \"\"\"\n",
      "data = db.select_dataframe(query % (member_id, start_date, end_date))\n",
      "data"
     ],
     "language": "python",
     "metadata": {},
     "outputs": []
    },
    {
     "cell_type": "code",
     "collapsed": false,
     "input": [
      "data.groupby('service').sum().plot(kind='barh')"
     ],
     "language": "python",
     "metadata": {},
     "outputs": []
    },
    {
     "cell_type": "heading",
     "level": 4,
     "metadata": {},
     "source": [
      "Top 10 Most-Called GET Services Last 2 Weeks"
     ]
    },
    {
     "cell_type": "code",
     "collapsed": false,
     "input": [
      "query = \"\"\" select count(*), service from efalconer.api_activity_aggr \n",
      "        where member_id=%s and interval_start >= '%s' and interval_start <= '%s' \n",
      "        and method='GET' \n",
      "        group by service order by count(*) desc limit 10;\n",
      "        \"\"\"\n",
      "data = db.select_dataframe(query % (member_id, start_date, end_date))\n",
      "data"
     ],
     "language": "python",
     "metadata": {},
     "outputs": []
    },
    {
     "cell_type": "code",
     "collapsed": false,
     "input": [
      "data.groupby('service').sum().plot(kind='barh')"
     ],
     "language": "python",
     "metadata": {},
     "outputs": []
    },
    {
     "cell_type": "heading",
     "level": 4,
     "metadata": {},
     "source": [
      "Total API Calls by Method Last 2 weeks"
     ]
    },
    {
     "cell_type": "code",
     "collapsed": false,
     "input": [
      "# note api_activity only retains data for last two weeks, get all activity\n",
      "query = \"\"\" select count(*), method from efalconer.api_activity \n",
      "            where member_id=%s GROUP BY method ORDER BY count(*) desc;\n",
      "        \"\"\"\n",
      "data = db.select_dataframe(query % member_id)\n",
      "data"
     ],
     "language": "python",
     "metadata": {},
     "outputs": []
    },
    {
     "cell_type": "code",
     "collapsed": false,
     "input": [
      "data.groupby('method').sum().plot(kind='bar')"
     ],
     "language": "python",
     "metadata": {},
     "outputs": []
    },
    {
     "cell_type": "heading",
     "level": 4,
     "metadata": {},
     "source": [
      "Top 10 Error Codes Last 2 weeks"
     ]
    },
    {
     "cell_type": "code",
     "collapsed": false,
     "input": [
      "query = \"\"\" select count(*), error_code from efalconer.api_activity \n",
      "        where member_id=%s GROUP BY error_code ORDER BY count(*) desc\n",
      "        limit 10;\n",
      "        \"\"\"\n",
      "data = db.select_dataframe(query % member_id)\n",
      "data"
     ],
     "language": "python",
     "metadata": {},
     "outputs": []
    },
    {
     "cell_type": "heading",
     "level": 4,
     "metadata": {},
     "source": [
      "Rate Exceeded by Service Last 2 Weeks"
     ]
    },
    {
     "cell_type": "code",
     "collapsed": false,
     "input": [
      "query = \"\"\" select count(*), service from efalconer.api_activity \n",
      "            where member_id=%s and error_code = 'RATE_EXCEEDED' \n",
      "            GROUP BY service ORDER BY count(*) desc limit 10;\n",
      "        \"\"\"\n",
      "data = db.select_dataframe(query % member_id)\n",
      "data"
     ],
     "language": "python",
     "metadata": {},
     "outputs": []
    },
    {
     "cell_type": "heading",
     "level": 4,
     "metadata": {},
     "source": [
      "Rate Exceeded method Last 2 Weeks"
     ]
    },
    {
     "cell_type": "code",
     "collapsed": false,
     "input": [
      "query = \"\"\" select count(*), method from efalconer.api_activity where member_id=%s \n",
      "            and error_code = 'RATE_EXCEEDED' \n",
      "            GROUP BY method ORDER BY count(*) desc;\n",
      "        \"\"\"\n",
      "data = db.select_dataframe(query % member_id)\n",
      "data"
     ],
     "language": "python",
     "metadata": {},
     "outputs": []
    },
    {
     "cell_type": "heading",
     "level": 4,
     "metadata": {},
     "source": [
      "Top 5 Full URI Calls Last 2 Weeks"
     ]
    },
    {
     "cell_type": "code",
     "collapsed": false,
     "input": [
      "query = \"\"\" select count(*), uri from efalconer.api_activity where member_id=%s \n",
      "            GROUP BY uri ORDER BY count(*) desc limit 5;\n",
      "        \"\"\"\n",
      "data = db.select_dataframe(query % member_id)\n",
      "data"
     ],
     "language": "python",
     "metadata": {},
     "outputs": []
    },
    {
     "cell_type": "code",
     "collapsed": false,
     "input": [],
     "language": "python",
     "metadata": {},
     "outputs": []
    }
   ],
   "metadata": {}
  }
 ]
}