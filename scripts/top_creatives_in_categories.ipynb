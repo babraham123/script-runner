{
 "metadata": {
  "name": ""
 },
 "nbformat": 3,
 "nbformat_minor": 0,
 "worksheets": [
  {
   "cells": [
    {
     "cell_type": "raw",
     "metadata": {},
     "source": [
      "title|Top Creatives in Categories\n",
      "wiki|https://corpwiki.appnexus.com/x/SIM4Aw\n",
      "description|The following will give the top x APN audited creatives (imp volume last 7 days) for a given creative category. You can then plug these into the creative approval tool to see the creatives\n",
      "team|Implementation Consultants\n",
      "category|reporting\n",
      "download|merged\n",
      "brand_category|number|brand category id number. you can use to view a list of brand categories|17\n",
      "creatives_pulled|number|The # of creatives you'd like to see|10"
     ]
    },
    {
     "cell_type": "code",
     "collapsed": false,
     "input": [
      "# The following will give the top x APN audited creatives (imp volume last 7 days) for a given creative category\n",
      "# You can then plug these into the creative approval tool to see the creatives\n",
      "import pandas as pd\n",
      "import numpy as np\n",
      "\n",
      "# accesses the databases we will need for this script\n",
      "vert = lnk.dbs.vertica\n",
      "bidder = lnk.dbs.mprod_bidder\n",
      "api = lnk.dbs.mprod_api\n",
      "\n",
      "categories = api.select_dataframe(\"\"\"SELECT distinct id, name from brand_category where deleted=0;\"\"\")\n",
      "\n",
      "#Use the following for reference if you need to know a category id\n",
      "#d.HTML(categories.to_html())\n",
      "\n",
      "#creates a dataframe w/apn audited creatives audit statuses for creative category\n",
      "\n",
      "audited_creatives= api.select_dataframe(\"\"\"SELECT b.creative_id as 'creative id',\n",
      "                                                a.brand_id as 'brand id', \n",
      "                                                a.google_audit_status as 'google audit', \n",
      "                                                a.msft_audit_status as 'microsoft audit', \n",
      "                                                a.yahoo_audit_status as 'yahoo audit' \n",
      "                                            FROM api.creative a \n",
      "                                            JOIN \n",
      "                                                bidder.creative_brand_category b \n",
      "                                            ON \n",
      "                                                a.id=b.creative_id \n",
      "                                            WHERE \n",
      "                                                b.creative_category_id=%s and \n",
      "                                                a.active=1 and \n",
      "                                                a.deleted=0 and \n",
      "                                                a.audit_status='audited';\"\"\" % (brand_category)) \n",
      "\n",
      "#turns ids from above into string for vertica pull\n",
      "campaign_string =','.join(map(str,audited_creatives['creative id']))\n",
      "\n",
      "\n",
      "#pulls imps for creatives from above & selects top x creatives by imp volume for last 7\n",
      "imps =  vert.select_dataframe(\"\"\"SELECT creative_id, \n",
      "                                    sum(imps) as imps \n",
      "                                FROM \n",
      "                                    agg_dw_advertiser_publisher_analytics_adjusted \n",
      "                                WHERE \n",
      "                                    ymd >= now()- interval '7days' and \n",
      "                                    creative_id in (%s) \n",
      "                                GROUP BY \n",
      "                                    creative_id \n",
      "                                ORDER BY \n",
      "                                    2 desc \n",
      "                                LIMIT \n",
      "                                    %s;\"\"\" % (campaign_string,creatives_pulled))\n",
      "\n",
      "#merges sql & vertica tables\n",
      "merged = pd.merge(imps,audited_creatives,how='inner',left_on='creative_id',right_on='creative id')\n",
      "\n",
      "#drops creative id duplicate column\n",
      "merged= merged.drop('creative id',axis=1)\n",
      "\n"
     ],
     "language": "python",
     "metadata": {},
     "outputs": []
    }
   ],
   "metadata": {}
  }
 ]
}