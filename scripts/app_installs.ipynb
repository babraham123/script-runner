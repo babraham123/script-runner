{
 "metadata": {
  "name": ""
 },
 "nbformat": 3,
 "nbformat_minor": 0,
 "worksheets": [
  {
   "cells": [
    {
     "cell_type": "raw",
     "metadata": {},
     "source": [
      "title|Who installed that App?\n",
      "wiki|https://corpwiki.appnexus.com/x/SIM4Aw\n",
      "description|Find out who has installed a certain Console App. Search for the app using its plugin id or best approximation of the App's name.\n",
      "team|Technical Services\n",
      "category|reporting\n",
      "download|output\n",
      "plugin_id|number|App Plugin Id|0\n",
      "app_name|text|App Name"
     ]
    },
    {
     "cell_type": "code",
     "collapsed": false,
     "input": [
      "# App installs by plugin id\n",
      "import json\n",
      "from anxapi import anx_get,anx_get_all"
     ],
     "language": "python",
     "metadata": {},
     "outputs": []
    },
    {
     "cell_type": "code",
     "collapsed": false,
     "input": [
      "if plugin_id == 0:\n",
      "    # search by name\n",
      "    if not app_name:\n",
      "        print 'no inputs found'\n",
      "        exit()\n",
      "    r = anx_get('dw-prod','plugin?like_name=' + app_name, token=token)\n",
      "    if r['status'] != 'OK' or r['count'] == 0:\n",
      "        print 'API calls failed'\n",
      "        exit()\n",
      "    plugin_id = r[\"plugins\"][0][\"id\"]\n",
      "    print r[\"plugins\"][0][\"name\"]\n",
      "\n",
      "r = anx_get_all('dw-prod','app-installation?plugin_id=' + str(plugin_id), token=token)\n",
      "if r['status'] != 'OK' or r['count'] == 0:\n",
      "    print 'API calls failed'\n",
      "    exit()\n",
      "installs = {}\n",
      "for q in r[\"app-installations\"]:\n",
      "    client = {'id':q[\"subscriber_entity_id\"], 'name':q[\"subscriber_entity_type\"]}\n",
      "    app = q[\"plugin_id\"]\n",
      "        \n",
      "    if app in installs:\n",
      "        installs[app].append(client)\n",
      "    else:\n",
      "        installs[app] = [client]\n",
      "\n",
      "for app in installs:\n",
      "    for client in installs[app]:\n",
      "        name = 'Unknown'\n",
      "        if client['name'] == 'member':\n",
      "            rr = anx_get('dw-prod','member?id=' + str(client['id']))\n",
      "            name = str(rr['member']['name'])\n",
      "        client['name'] = name\n",
      "    print 'Plugin id =', app, 'Total installs:', len(installs[app]), 'Installs::'\n",
      "    print json.dumps(installs[app], indent=2)"
     ],
     "language": "python",
     "metadata": {},
     "outputs": []
    },
    {
     "cell_type": "code",
     "collapsed": false,
     "input": [
      "output = installs[app]"
     ],
     "language": "python",
     "metadata": {},
     "outputs": []
    }
   ],
   "metadata": {}
  }
 ]
}