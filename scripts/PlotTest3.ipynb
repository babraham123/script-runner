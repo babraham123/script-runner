{
 "metadata": {
  "name": ""
 },
 "nbformat": 3,
 "nbformat_minor": 0,
 "worksheets": [
  {
   "cells": [
    {
     "cell_type": "raw",
     "metadata": {},
     "source": [
      "title|Plot Test 3\n",
      "description|Practice plotting graphs\n",
      "wiki|http://matplotlib.org/\n",
      "category|reporting\n",
      "team|Technical Services\n",
      "campaign_code|text|Campaign Code|bobby"
     ]
    },
    {
     "cell_type": "code",
     "collapsed": false,
     "input": [
      "\"\"\"\n",
      "Demo of bar plot on a polar axis.\n",
      "\"\"\"\n",
      "import numpy as np\n",
      "import matplotlib.pyplot as plt\n",
      "\n",
      "\n",
      "N = 20\n",
      "theta = np.linspace(0.0, 2 * np.pi, N, endpoint=False)\n",
      "radii = 10 * np.random.rand(N)\n",
      "width = np.pi / 4 * np.random.rand(N)\n",
      "\n",
      "ax = plt.subplot(111, polar=True)\n",
      "bars = ax.bar(theta, radii, width=width, bottom=0.0)\n",
      "\n",
      "# Use custom colors and opacity\n",
      "for r, bar in zip(radii, bars):\n",
      "    bar.set_facecolor(plt.cm.jet(r / 10.))\n",
      "    bar.set_alpha(0.5)\n",
      "\n",
      "plt.show()"
     ],
     "language": "python",
     "metadata": {},
     "outputs": []
    },
    {
     "cell_type": "code",
     "collapsed": false,
     "input": [
      "\"\"\"\n",
      "Demo of spines using custom bounds to limit the extent of the spine.\n",
      "\"\"\"\n",
      "import numpy as np\n",
      "import matplotlib.pyplot as plt\n",
      "\n",
      "\n",
      "x = np.linspace(0, 2*np.pi, 50)\n",
      "y = np.sin(x)\n",
      "y2 = y + 0.1 * np.random.normal(size=x.shape)\n",
      "\n",
      "fig, ax = plt.subplots()\n",
      "ax.plot(x, y, 'k--')\n",
      "ax.plot(x, y2, 'ro')\n",
      "\n",
      "# set ticks and tick labels\n",
      "ax.set_xlim((0, 2*np.pi))\n",
      "ax.set_xticks([0, np.pi, 2*np.pi])\n",
      "ax.set_xticklabels(['0', '$\\pi$','2$\\pi$'])\n",
      "ax.set_ylim((-1.5, 1.5))\n",
      "ax.set_yticks([-1, 0, 1])\n",
      "\n",
      "# Only draw spine between the y-ticks\n",
      "ax.spines['left'].set_bounds(-1, 1)\n",
      "# Hide the right and top spines\n",
      "ax.spines['right'].set_visible(False)\n",
      "ax.spines['top'].set_visible(False)\n",
      "# Only show ticks on the left and bottom spines\n",
      "ax.yaxis.set_ticks_position('left')\n",
      "ax.xaxis.set_ticks_position('bottom')\n",
      "\n",
      "plt.show()"
     ],
     "language": "python",
     "metadata": {},
     "outputs": []
    },
    {
     "cell_type": "code",
     "collapsed": false,
     "input": [],
     "language": "python",
     "metadata": {},
     "outputs": []
    }
   ],
   "metadata": {}
  }
 ]
}