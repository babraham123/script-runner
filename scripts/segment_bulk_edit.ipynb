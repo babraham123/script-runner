{
 "metadata": {
  "name": ""
 },
 "nbformat": 3,
 "nbformat_minor": 0,
 "worksheets": [
  {
   "cells": [
    {
     "cell_type": "raw",
     "metadata": {},
     "source": [
      "title|Segment Bulk Edit\n",
      "wiki|https://corpwiki.appnexus.com/x/iIAgAw\n",
      "description|Bulk add a list of segments to a list of campaigns. The segments are added as one big segment group. ctest only\n",
      "category|automation\n",
      "team|Agencies and Advertisers\n",
      "segment_ids|text|Segment ids, a comma separated list\n",
      "campaign_ids|text|Campaign ids, a comma separated list\n",
      "logic_within_group|text|Logic within the segment group. either 'and' or 'or'\n",
      "def_action|text|Default action for each segment. either 'include' or 'exclude'"
     ]
    },
    {
     "cell_type": "code",
     "collapsed": false,
     "input": [
      "# Bulk Editing Campaign Segments using AnxPy\n",
      "# version: python 2.7.3\n",
      "# author: Bereket Abraham\n",
      "#\n",
      "# example: python segment_bulk_edit.py segments.csv\n",
      "#\n",
      "# Notes:\n",
      "# Every segment is added to every campaign\n",
      "# A new segment group is created to house the new segments\n",
      "# Logic between groups is left as is\n",
      "# Logic within the new group is set to 'or'\n",
      "# The default action for each segment is include\n",
      "\n",
      "from AnxPy import Console\n",
      "from AnxPy.environ import DW_CTEST, DW_PROD\n",
      "from collections import OrderedDict\n",
      "import anxtools, sys\n",
      "\n",
      "filename = sys.argv[1]\n",
      "rows = anxtools.loadcsv(filename)\n",
      "ids = [int(ca) for ca in campaign_ids.split(',')]\n",
      "segment_ids = [int(sg) for sg in segment_ids.split(',')]\n",
      "# remove duplicates\n",
      "ids = list(OrderedDict.fromkeys(ids))\n",
      "segment_ids = list(OrderedDict.fromkeys(segment_ids))\n",
      "\n",
      "# logic_between_groups = \"and\"\n",
      "# logic_within_group = \"or\"\n",
      "# def_action = \"include\"\n",
      "\n",
      "# convert to json format\n",
      "segments = [{\"id\":int(seg),\"action\":def_action} for seg in segment_ids]\n",
      "segment_group = {\"boolean_operator\":logic_within_group,\"segments\":segments}\n",
      "\n",
      "console = Console(DW_CTEST, token=token)\n",
      "# filter by campaign ids\n",
      "campaign_collection = console.Campaign.get(filter={\"id\":ids})\n",
      "\n",
      "print \"\\nThere are \", campaign_collection.num_elements, \"campaigns.\"\n",
      "\n",
      "# make sure all of the ids mapped properly\n",
      "assert(campaign_collection.num_elements == len(ids))\n",
      "\n",
      "campaign_list = campaign_collection.get_all()\n",
      "\n",
      "# access the segments through the profile object\n",
      "for campaign in campaign_list:\n",
      "    campaign.pull_profile()\n",
      "\n",
      "for campaign in campaign_list:\n",
      "\t# set the logic between segment groups\n",
      "    #campaign.profile.segment_boolean_operator = logic_between_groups\n",
      "    if campaign.profile.segment_group_targets is None:\n",
      "    \tcampaign.profile.segment_group_targets = []\n",
      "    campaign.profile.segment_group_targets.append(segment_group)\n",
      "    \n",
      "\n",
      "campaign_collection.save_all()"
     ],
     "language": "python",
     "metadata": {},
     "outputs": []
    }
   ],
   "metadata": {}
  }
 ]
}