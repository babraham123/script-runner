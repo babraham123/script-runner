{
 "metadata": {
  "name": ""
 },
 "nbformat": 3,
 "nbformat_minor": 0,
 "worksheets": [
  {
   "cells": [
    {
     "cell_type": "raw",
     "metadata": {},
     "source": [
      "title|Campaign Create Wizard\n",
      "wiki|https://corpwiki.appnexus.com/x/iIAgAw\n",
      "description|Bulk create a new campaign using a simple template.\n",
      "category|automation\n",
      "team|Platform Integrations\n",
      "campaign_id|number|Campaign Id\n",
      "campaign_name|text|Campaign Name\n",
      "campaign_code|text|Campaign Code|bobby"
     ]
    },
    {
     "cell_type": "code",
     "collapsed": false,
     "input": [
      "print campaign_name\n",
      "print campaign_code\n",
      "print campaign_id\n"
     ],
     "language": "python",
     "metadata": {},
     "outputs": []
    },
    {
     "cell_type": "code",
     "collapsed": false,
     "input": [
      "print \"Script ran successfully!!\""
     ],
     "language": "python",
     "metadata": {},
     "outputs": []
    }
   ],
   "metadata": {}
  }
 ]
}