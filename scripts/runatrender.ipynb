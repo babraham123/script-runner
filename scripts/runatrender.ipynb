{
 "metadata": {
  "name": ""
 },
 "nbformat": 3,
 "nbformat_minor": 0,
 "worksheets": [
  {
   "cells": [
    {
     "cell_type": "raw",
     "metadata": {},
     "source": [
      "title|Run At Render\n",
      "wiki|www.reddit.com\n",
      "description|Make sure to run as well as render\n",
      "category|reporting\n",
      "team|Technical Services\n",
      "download|aa\n",
      "aaa|text|Big A\n",
      "bbb|text|Big B"
     ]
    },
    {
     "cell_type": "code",
     "collapsed": false,
     "input": [
      "# Bereket cool script\n",
      "from AnxPy import Console\n",
      "from AnxPy.environ import DW_PROD, DW_CTEST\n",
      "console = Console(DW_CTEST)\n",
      "\n",
      "print 42"
     ],
     "language": "python",
     "metadata": {},
     "outputs": [
      {
       "output_type": "stream",
       "stream": "stdout",
       "text": [
        "lleirverliververvlserli. Did not run fresh\n"
       ]
      }
     ],
     "prompt_number": 1
    },
    {
     "cell_type": "code",
     "collapsed": false,
     "input": ["aa = {'dog':23,'cat':75,'rabbit':343,'turtle':1}"],
     "language": "python",
     "metadata": {},
     "outputs": []
    }
   ],
   "metadata": {}
  }
 ]
}