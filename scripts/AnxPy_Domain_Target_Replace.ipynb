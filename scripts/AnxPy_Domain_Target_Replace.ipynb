{
 "metadata": {
  "name": ""
 },
 "nbformat": 3,
 "nbformat_minor": 0,
 "worksheets": [
  {
   "cells": [
    {
     "cell_type": "raw",
     "metadata": {},
     "source": [
      "title|AnxPy Domain Target Replace\n",
      "wiki|https://corpwiki.appnexus.com/x/iIAgAw\n",
      "description|Replace domain targets for all campaigns under a certain advertiser. ctest only\n",
      "advertiser_id|number|Advertiser Id\n",
      "domain_list_id|number|Domain List Id|7\n",
      "action|text|Action is either 'include' or 'exclude'|include"
     ]
    },
    {
     "cell_type": "code",
     "collapsed": false,
     "input": [
      "from AnxPy import Console\n",
      "from AnxPy.environ import DW_PROD, DW_CTEST, DW_SAND\n",
      "\n",
      "console = Console(DW_CTEST, token=token)\n",
      "campaign_collection = console.Campaign.get(filter={\"advertiser_id\":advertiser_id})\n",
      "\n",
      "campaign_list = campaign_collection.get_all()\n",
      "\n",
      "for campaign in campaign_list:\n",
      "    campaign.pull_profile()\n",
      "\t\n",
      "for campaign in campaign_list:\n",
      "    campaign.profile.domain_list_action=action\n",
      "    campaign.profile.domain_list_targets=[{\"id\":\"7\"}]\n",
      "    print 'campaign id ' + campaign.id\n"
     ],
     "language": "python",
     "metadata": {},
     "outputs": []
    }
   ],
   "metadata": {}
  }
 ]
}